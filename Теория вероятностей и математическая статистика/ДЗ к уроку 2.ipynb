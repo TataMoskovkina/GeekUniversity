{
 "cells": [
  {
   "cell_type": "markdown",
   "metadata": {},
   "source": [
    "### Задача 1\n",
    "Контрольная работа состоит из пяти вопросов. На каждый вопрос приведено четыре варианта ответа, один из которых правильный. Составьте закон распределения числа правильных ответов при простом угадывании. Найдите M(X), D(X)."
   ]
  },
  {
   "cell_type": "markdown",
   "metadata": {},
   "source": [
    "Для решения этой задачи используем формули Бернулли для биномиального распределения. \n",
    "\n",
    "X - число правильных ответов,\n",
    "\n",
    "n = 5 - кол-во вопросов, \n",
    "\n",
    "p = 1/4 - вероятность дать правильный ответ на вопрос."
   ]
  },
  {
   "cell_type": "code",
   "execution_count": 1,
   "metadata": {},
   "outputs": [],
   "source": [
    "import numpy as np"
   ]
  },
  {
   "cell_type": "code",
   "execution_count": 2,
   "metadata": {},
   "outputs": [],
   "source": [
    "def combinations(n: int, k: int) -> int:\n",
    "    return np.math.factorial(n) // (np.math.factorial(k) * np.math.factorial(n - k))\n",
    "\n",
    "def bernulli(n: int, k: int, p: int) -> int:\n",
    "    return (combinations(n, k) * (p ** k) * ((1 - p) ** (n - k)))"
   ]
  },
  {
   "cell_type": "code",
   "execution_count": 3,
   "metadata": {},
   "outputs": [
    {
     "name": "stdout",
     "output_type": "stream",
     "text": [
      "[0.00097656 0.01464844 0.08789062 0.26367188 0.39550781 0.23730469]\n"
     ]
    }
   ],
   "source": [
    "n = 5\n",
    "p = 0.25\n",
    "X5 = 5\n",
    "X4 = 4\n",
    "X3 = 3\n",
    "X2 = 2\n",
    "X1 = 1\n",
    "X0 = 0\n",
    "\n",
    "X_p = np.array([bernulli(n, X5, p),\n",
    "                bernulli(n, X4, p),\n",
    "                bernulli(n, X3, p),\n",
    "                bernulli(n, X2, p),\n",
    "                bernulli(n, X1, p),\n",
    "                bernulli(n, X0, p)])\n",
    "\n",
    "print(X_p)"
   ]
  },
  {
   "cell_type": "markdown",
   "metadata": {},
   "source": [
    "Закон распределения числа правильных ответов будет выглядеть так:\n",
    "\n",
    "<table border=\"3\">\n",
    "    <tr>\n",
    "        <th>$x$</th>\n",
    "        <td>0</td>\n",
    "        <td>1</td>\n",
    "        <td>2</td>\n",
    "        <td>3</td>\n",
    "        <td>4</td>\n",
    "        <td>5</td>\n",
    "    </tr>\n",
    "    <tr>\n",
    "        <th>$P(X = x)$</th>\n",
    "        <td>0.2373046875</td>\n",
    "        <td>0.3955078125</td>\n",
    "        <td>0.263671875</td>\n",
    "        <td>0.087890625</td>\n",
    "        <td>0.0146484375</td>\n",
    "        <td>0.0009765625</td>\n",
    "    </tr>\n",
    "</table>\n",
    "\n",
    "Теперь посчитаем Математическое ожидание и дисперсию по формулам:\n",
    "\n",
    "$$M(X) = np$$\n",
    "\n",
    "$$D(X) = np(1-p)$$"
   ]
  },
  {
   "cell_type": "code",
   "execution_count": 4,
   "metadata": {},
   "outputs": [
    {
     "data": {
      "text/plain": [
       "1.25"
      ]
     },
     "execution_count": 4,
     "metadata": {},
     "output_type": "execute_result"
    }
   ],
   "source": [
    "M_X = n * p\n",
    "M_X"
   ]
  },
  {
   "cell_type": "code",
   "execution_count": 5,
   "metadata": {},
   "outputs": [
    {
     "data": {
      "text/plain": [
       "0.9375"
      ]
     },
     "execution_count": 5,
     "metadata": {},
     "output_type": "execute_result"
    }
   ],
   "source": [
    "D_X = n * p * (1 - p)\n",
    "D_X"
   ]
  },
  {
   "cell_type": "markdown",
   "metadata": {},
   "source": [
    "### Задача 2\n",
    "Вероятность попадания в цель при одном выстреле равна 0.01. Какова вероятность того, что число попаданий при 200 выстрелах будет не менее 5 и не более 10?"
   ]
  },
  {
   "cell_type": "markdown",
   "metadata": {},
   "source": [
    "Для решения этой задачи также используем формулу Бернулли в интервале 5 <= X <=10"
   ]
  },
  {
   "cell_type": "code",
   "execution_count": 6,
   "metadata": {},
   "outputs": [
    {
     "name": "stdout",
     "output_type": "stream",
     "text": [
      "10 9 8 7 6 5\n"
     ]
    }
   ],
   "source": [
    "n = 200\n",
    "p = 0.01\n",
    "\n",
    "X10, X9, X8, X7, X6, X5 = 10, 9, 8, 7, 6, 5\n",
    "print(X10, X9, X8, X7, X6, X5)"
   ]
  },
  {
   "cell_type": "code",
   "execution_count": 7,
   "metadata": {},
   "outputs": [
    {
     "name": "stdout",
     "output_type": "stream",
     "text": [
      "[3.32600384e-05 1.72394964e-04 8.00020378e-04 3.28298518e-03\n",
      " 1.17273646e-02 3.57233567e-02]\n"
     ]
    }
   ],
   "source": [
    "X_p = np.array([bernulli(n, X10, p), \n",
    "                bernulli(n, X9, p),\n",
    "                bernulli(n, X8, p),\n",
    "                bernulli(n, X7, p),\n",
    "                bernulli(n, X6, p),\n",
    "                bernulli(n, X5, p)])\n",
    "print(X_p)"
   ]
  },
  {
   "cell_type": "markdown",
   "metadata": {},
   "source": [
    "Чтобы получить вероятность того, что число попаданий при 200 выстрелах будет не менее 5 и не более 10 необходимо сложить элементы полученного массива(события несовместные используем фолмулу сложения вероятностей)."
   ]
  },
  {
   "cell_type": "code",
   "execution_count": 8,
   "metadata": {},
   "outputs": [
    {
     "data": {
      "text/plain": [
       "0.051739381860374606"
      ]
     },
     "execution_count": 8,
     "metadata": {},
     "output_type": "execute_result"
    }
   ],
   "source": [
    "P = np.sum(X_p)\n",
    "P"
   ]
  },
  {
   "cell_type": "code",
   "execution_count": null,
   "metadata": {},
   "outputs": [],
   "source": []
  }
 ],
 "metadata": {
  "kernelspec": {
   "display_name": "Python 3",
   "language": "python",
   "name": "python3"
  },
  "language_info": {
   "codemirror_mode": {
    "name": "ipython",
    "version": 3
   },
   "file_extension": ".py",
   "mimetype": "text/x-python",
   "name": "python",
   "nbconvert_exporter": "python",
   "pygments_lexer": "ipython3",
   "version": "3.6.5"
  }
 },
 "nbformat": 4,
 "nbformat_minor": 2
}
